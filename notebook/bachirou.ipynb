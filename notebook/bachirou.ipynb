{
 "cells": [
  {
   "cell_type": "code",
   "execution_count": 2,
   "metadata": {},
   "outputs": [],
   "source": [
    "import numpy as np\n",
    "import pandas as pd\n",
    "import io \n",
    "from scipy import stats\n",
    "import pickle\n",
    "import seaborn as sns\n",
    "import matplotlib.pyplot as plt\n",
    "from sklearn.preprocessing import StandardScaler\n",
    "from sklearn.preprocessing import label_binarize\n",
    "from sklearn.model_selection import train_test_split\n",
    "from sklearn.decomposition import PCA\n",
    "from sklearn.linear_model import LogisticRegression\n",
    "from sklearn.cluster import DBSCAN, KMeans\n",
    "from sklearn.metrics import accuracy_score, classification_report, confusion_matrix\n",
    "from sklearn.metrics import recall_score, roc_auc_score"
   ]
  },
  {
   "cell_type": "code",
   "execution_count": 5,
   "metadata": {},
   "outputs": [
    {
     "name": "stdout",
     "output_type": "stream",
     "text": [
      "      Forward Packets Forward Bytes Delta Forward Packets Delta Forward Bytes  \\\n",
      "0              228550      29820143                     0                   0   \n",
      "1              228550      29820143                     0                   0   \n",
      "2              228550      29820143                     0                   0   \n",
      "3              228550      29820143                     0                   0   \n",
      "4              228551      29820241                     1                  98   \n",
      "...               ...           ...                   ...                 ...   \n",
      "26236          126759      13693636                     0                   0   \n",
      "26237          126759      13693636                     0                   0   \n",
      "26238          126759      13693636                     0                   0   \n",
      "26239          126759      13693636                     0                   0   \n",
      "26240          126759      13693636                     0                   0   \n",
      "\n",
      "      Forward Instantaneous Packets per Second  \\\n",
      "0                                          0.0   \n",
      "1                                          0.0   \n",
      "2                                          0.0   \n",
      "3                                          0.0   \n",
      "4                                          1.0   \n",
      "...                                        ...   \n",
      "26236                                      0.0   \n",
      "26237                                      0.0   \n",
      "26238                                      0.0   \n",
      "26239                                      0.0   \n",
      "26240                                      0.0   \n",
      "\n",
      "      Forward Average Packets per second  \\\n",
      "0                                    0.0   \n",
      "1                                    0.0   \n",
      "2                               228550.0   \n",
      "3                               228550.0   \n",
      "4                               114275.5   \n",
      "...                                  ...   \n",
      "26236                          35.726888   \n",
      "26237                          35.726888   \n",
      "26238                          35.716822   \n",
      "26239                          35.716822   \n",
      "26240                          35.706761   \n",
      "\n",
      "      Forward Instantaneous Bytes per Second Forward Average Bytes per second  \\\n",
      "0                                        0.0                              0.0   \n",
      "1                                        0.0                              0.0   \n",
      "2                                        0.0                       29820143.0   \n",
      "3                                        0.0                       29820143.0   \n",
      "4                                       98.0                       14910120.5   \n",
      "...                                      ...                              ...   \n",
      "26236                                    0.0                       3859.53664   \n",
      "26237                                    0.0                       3859.53664   \n",
      "26238                                    0.0                      3858.449141   \n",
      "26239                                    0.0                      3858.449141   \n",
      "26240                                    0.0                      3857.362254   \n",
      "\n",
      "      Reverse Packets Reverse Bytes Delta Reverse Packets Delta Reverse Bytes  \\\n",
      "0                   0             0                     0                   0   \n",
      "1               92015       6075301                 92015             6075301   \n",
      "2               92015       6075301                 92015             6075301   \n",
      "3               92015       6075301                     0                   0   \n",
      "4               92015       6075301                     0                   0   \n",
      "...               ...           ...                   ...                 ...   \n",
      "26236           91343       6028782                     0                   0   \n",
      "26237           91343       6028782                     0                   0   \n",
      "26238           91343       6028782                     0                   0   \n",
      "26239           91343       6028782                     0                   0   \n",
      "26240           91343       6028782                     0                   0   \n",
      "\n",
      "      DeltaReverse Instantaneous Packets per Second  \\\n",
      "0                                               0.0   \n",
      "1                                               0.0   \n",
      "2                                               0.0   \n",
      "3                                               0.0   \n",
      "4                                               0.0   \n",
      "...                                             ...   \n",
      "26236                                           0.0   \n",
      "26237                                           0.0   \n",
      "26238                                           0.0   \n",
      "26239                                           0.0   \n",
      "26240                                           0.0   \n",
      "\n",
      "      Reverse Average Packets per second  \\\n",
      "0                                    0.0   \n",
      "1                                    0.0   \n",
      "2                                    0.0   \n",
      "3                                92015.0   \n",
      "4                                92015.0   \n",
      "...                                  ...   \n",
      "26236                          25.752185   \n",
      "26237                          25.744927   \n",
      "26238                          25.744927   \n",
      "26239                          25.737673   \n",
      "26240                          25.737673   \n",
      "\n",
      "      Reverse Instantaneous Bytes per Second Reverse Average Bytes per second  \\\n",
      "0                                        0.0                              0.0   \n",
      "1                                        0.0                              0.0   \n",
      "2                                        0.0                              0.0   \n",
      "3                                        0.0                        6075301.0   \n",
      "4                                        0.0                        6075301.0   \n",
      "...                                      ...                              ...   \n",
      "26236                                    0.0                      1699.684804   \n",
      "26237                                    0.0                       1699.20575   \n",
      "26238                                    0.0                       1699.20575   \n",
      "26239                                    0.0                      1698.726965   \n",
      "26240                                    0.0                      1698.726965   \n",
      "\n",
      "      Traffic Type  \n",
      "0             ping  \n",
      "1             ping  \n",
      "2             ping  \n",
      "3             ping  \n",
      "4             ping  \n",
      "...            ...  \n",
      "26236       telnet  \n",
      "26237       telnet  \n",
      "26238       telnet  \n",
      "26239       telnet  \n",
      "26240       telnet  \n",
      "\n",
      "[26241 rows x 17 columns]\n"
     ]
    }
   ],
   "source": [
    "ping_df = pd.read_csv('ping_training_data.csv', delimiter='\\t')\n",
    "voice_df = pd.read_csv('voice_training_data.csv', delimiter='\\t')\n",
    "video_df = pd.read_csv('video_training_data.csv', delimiter='\\t')\n",
    "dns_df = pd.read_csv('dns_training_data.csv', delimiter='\\t')\n",
    "telnet_df = pd.read_csv('telnet_training_data.csv', delimiter='\\t')\n",
    "df = pd.concat([ping_df, voice_df, video_df, dns_df, telnet_df], ignore_index=True)\n",
    "df = pd.concat([ping_df, voice_df, video_df, dns_df, telnet_df], ignore_index=True)\n",
    "#df = pd.DataFrame(['data'], columns=['feature_names']); \n",
    "\n",
    "print(df)"
   ]
  },
  {
   "cell_type": "code",
   "execution_count": 10,
   "metadata": {},
   "outputs": [],
   "source": [
    "df.dropna(inplace=True)"
   ]
  },
  {
   "cell_type": "code",
   "execution_count": 16,
   "metadata": {},
   "outputs": [],
   "source": [
    "df[df.columns[:-1]] = df[df.columns[:-1]].astype(float)\n",
    "df['Traffic Type'] = df['Traffic Type'].astype('category')"
   ]
  },
  {
   "cell_type": "code",
   "execution_count": 17,
   "metadata": {},
   "outputs": [
    {
     "data": {
      "text/plain": [
       "telnet    6749\n",
       "video     6704\n",
       "ping      6551\n",
       "voice     6237\n",
       "Name: Traffic Type, dtype: int64"
      ]
     },
     "execution_count": 17,
     "metadata": {},
     "output_type": "execute_result"
    }
   ],
   "source": [
    "df['Traffic Type'].value_counts()"
   ]
  },
  {
   "cell_type": "code",
   "execution_count": 19,
   "metadata": {},
   "outputs": [],
   "source": [
    "X= df.drop('Traffic Type', axis=1)\n",
    "y = df['Traffic Type']\n"
   ]
  },
  {
   "cell_type": "code",
   "execution_count": 20,
   "metadata": {},
   "outputs": [],
   "source": [
    "from sklearn import preprocessing\n",
    "\n",
    "#x = df.values #returns a numpy array\n",
    "min_max_scaler = preprocessing.MinMaxScaler()\n",
    "X = min_max_scaler.fit_transform(X)\n",
    "X = pd.DataFrame(X)"
   ]
  },
  {
   "cell_type": "code",
   "execution_count": 21,
   "metadata": {},
   "outputs": [],
   "source": [
    "X_train,X_test,y_train,y_test = train_test_split(X, y, stratify=y, test_size=0.3, random_state=888)"
   ]
  },
  {
   "cell_type": "code",
   "execution_count": 22,
   "metadata": {},
   "outputs": [],
   "source": [
    "#Entraînement du modèle:Nous allons maintenant créer et entraîner le modèle.\n",
    "model = LogisticRegression(max_iter=100, penalty='l2', solver='lbfgs', \n",
    "                           class_weight='balanced', random_state=10)"
   ]
  },
  {
   "cell_type": "code",
   "execution_count": 23,
   "metadata": {},
   "outputs": [
    {
     "name": "stderr",
     "output_type": "stream",
     "text": [
      "c:\\Users\\bachi\\anaconda3\\lib\\site-packages\\sklearn\\linear_model\\_logistic.py:814: ConvergenceWarning: lbfgs failed to converge (status=1):\n",
      "STOP: TOTAL NO. of ITERATIONS REACHED LIMIT.\n",
      "\n",
      "Increase the number of iterations (max_iter) or scale the data as shown in:\n",
      "    https://scikit-learn.org/stable/modules/preprocessing.html\n",
      "Please also refer to the documentation for alternative solver options:\n",
      "    https://scikit-learn.org/stable/modules/linear_model.html#logistic-regression\n",
      "  n_iter_i = _check_optimize_result(\n"
     ]
    },
    {
     "data": {
      "text/plain": [
       "LogisticRegression(class_weight='balanced', random_state=10)"
      ]
     },
     "execution_count": 23,
     "metadata": {},
     "output_type": "execute_result"
    }
   ],
   "source": [
    "model.fit(X_train,y_train)"
   ]
  },
  {
   "cell_type": "code",
   "execution_count": 24,
   "metadata": {},
   "outputs": [],
   "source": [
    "predictions = model.predict(X_test)"
   ]
  },
  {
   "cell_type": "code",
   "execution_count": 25,
   "metadata": {},
   "outputs": [
    {
     "name": "stdout",
     "output_type": "stream",
     "text": [
      "Accuracy: 89.28%\n"
     ]
    }
   ],
   "source": [
    "print('Accuracy: %.2f%%' % (accuracy_score(y_test, predictions)*100))"
   ]
  },
  {
   "cell_type": "code",
   "execution_count": 26,
   "metadata": {},
   "outputs": [
    {
     "name": "stdout",
     "output_type": "stream",
     "text": [
      "4.0\n"
     ]
    }
   ],
   "source": [
    "print(pickle.format_version)"
   ]
  },
  {
   "cell_type": "code",
   "execution_count": 27,
   "metadata": {},
   "outputs": [],
   "source": [
    "pickle.dump(model,open('testsigma', 'wb'))"
   ]
  },
  {
   "cell_type": "code",
   "execution_count": 28,
   "metadata": {},
   "outputs": [
    {
     "name": "stdout",
     "output_type": "stream",
     "text": [
      "[[1662    0  304    0]\n",
      " [   0 2018    0    7]\n",
      " [  21    0 1990    0]\n",
      " [   0   14  498 1359]]\n"
     ]
    }
   ],
   "source": [
    "cm = confusion_matrix(y_test, predictions, labels=y.cat.categories)\n",
    "print(cm)\n"
   ]
  }
 ],
 "metadata": {
  "kernelspec": {
   "display_name": "base",
   "language": "python",
   "name": "python3"
  },
  "language_info": {
   "codemirror_mode": {
    "name": "ipython",
    "version": 3
   },
   "file_extension": ".py",
   "mimetype": "text/x-python",
   "name": "python",
   "nbconvert_exporter": "python",
   "pygments_lexer": "ipython3",
   "version": "3.9.12"
  }
 },
 "nbformat": 4,
 "nbformat_minor": 2
}
